{
 "cells": [
  {
   "cell_type": "code",
   "execution_count": null,
   "id": "e0a1fc69",
   "metadata": {},
   "outputs": [],
   "source": [
    "#создание переменных\n",
    "age = 32\n",
    "name = 'Kay'"
   ]
  },
  {
   "cell_type": "code",
   "execution_count": null,
   "id": "db76c68b",
   "metadata": {},
   "outputs": [],
   "source": [
    "#создание списка, где: 2 строки (имя и фамилия пользователя), 1 дробное число (зарплата), 1 целое число (стаж)\n",
    "user_info = ['Bakhtiyar', 'Kuntayev', 250000.0, 1]"
   ]
  },
  {
   "cell_type": "code",
   "execution_count": 1,
   "id": "0ceda73b",
   "metadata": {},
   "outputs": [
    {
     "name": "stdout",
     "output_type": "stream",
     "text": [
      "21\n",
      "35\n",
      "42\n",
      "27\n"
     ]
    }
   ],
   "source": [
    "#цикл, выводящий на печать элементы больше 18\n",
    "user_ages = [10, 18, 21, 35, 42, 27, 12, 16]\n",
    "\n",
    "for age in user_ages:\n",
    "    if age > 18:\n",
    "        print(age)"
   ]
  },
  {
   "cell_type": "code",
   "execution_count": 2,
   "id": "8e418209",
   "metadata": {},
   "outputs": [],
   "source": [
    "#программа, проверяющая стаж работы сотрудника\n",
    "worker = ['Olya', 'Silyutina', 350000, 3]\n",
    "\n",
    "def position(worker):\n",
    "    if worker[3] < 2:\n",
    "        return 'junior'\n",
    "    elif worker[3] >= 2 and worker[3] <= 5:\n",
    "        return 'middle'\n",
    "    else:\n",
    "        return 'senior'\n",
    "\n",
    "status = '{} {} is {}'.format(worker[0], worker[1], position(worker))"
   ]
  },
  {
   "cell_type": "code",
   "execution_count": 4,
   "id": "e379e020",
   "metadata": {},
   "outputs": [],
   "source": [
    "#добавление в список значений, которые делятся на 10 нацело\n",
    "values = [12, 134, 10, 47, 100, 20, 50, 160, 210]\n",
    "tens = []\n",
    "\n",
    "for value in values:\n",
    "    if value % 10 == 0:\n",
    "        tens.append(value)"
   ]
  },
  {
   "cell_type": "code",
   "execution_count": 6,
   "id": "a86262bf",
   "metadata": {},
   "outputs": [
    {
     "name": "stdout",
     "output_type": "stream",
     "text": [
      "Ivan Ivanov is middle\n",
      "Petr Petrov is middle\n",
      "Sidor Sidorov is middle\n"
     ]
    }
   ],
   "source": [
    "#цикл, который выводит для каждого сотрудника его стаж\n",
    "workers = [['Ivan', 'Ivanov', 100000, 2], ['Petr', 'Petrov', 150000, 2], ['Sidor', 'Sidorov', 200000, 3]]\n",
    "\n",
    "for worker in workers:\n",
    "    user_name = worker[0]\n",
    "    user_family = worker[1]\n",
    "    if worker[3] < 2:\n",
    "        position = 'junior'\n",
    "    elif worker[3] >= 2 and worker[3] <= 5:\n",
    "        position = 'middle'\n",
    "    elif worker[3] > 5:\n",
    "        position = 'senior'\n",
    "    status = '{} {} is {}'.format(user_name, user_family, position)\n",
    "    print(status)"
   ]
  },
  {
   "cell_type": "code",
   "execution_count": 10,
   "id": "cf18b2b7",
   "metadata": {},
   "outputs": [
    {
     "data": {
      "text/plain": [
       "[0, 2, 4, 6, 8, 10]"
      ]
     },
     "execution_count": 10,
     "metadata": {},
     "output_type": "execute_result"
    }
   ],
   "source": [
    "#список с числами от 0 (n = 0) до 10 включительно (N = 10) c шагом 2 (dn = 2)\n",
    "n, N, dn = 0, 10, 2\n",
    "lst = []\n",
    "\n",
    "while n <= N:\n",
    "    lst.append(n)\n",
    "    n += dn\n",
    "\n",
    "lst"
   ]
  }
 ],
 "metadata": {
  "kernelspec": {
   "display_name": "Python 3 (ipykernel)",
   "language": "python",
   "name": "python3"
  },
  "language_info": {
   "codemirror_mode": {
    "name": "ipython",
    "version": 3
   },
   "file_extension": ".py",
   "mimetype": "text/x-python",
   "name": "python",
   "nbconvert_exporter": "python",
   "pygments_lexer": "ipython3",
   "version": "3.9.12"
  }
 },
 "nbformat": 4,
 "nbformat_minor": 5
}
