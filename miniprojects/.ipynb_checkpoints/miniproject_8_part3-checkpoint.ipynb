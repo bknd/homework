{
 "cells": [
  {
   "cell_type": "code",
   "execution_count": 142,
   "id": "c0308a92",
   "metadata": {},
   "outputs": [],
   "source": [
    "import pandas as pd\n",
    "import matplotlib.pyplot as plt"
   ]
  },
  {
   "cell_type": "code",
   "execution_count": 99,
   "id": "34d5ca05",
   "metadata": {},
   "outputs": [],
   "source": [
    "bikes_Q1 = pd.read_csv('C:/Users/bkunt/jupyter/karpov/data/bikes_q1_sample.csv')"
   ]
  },
  {
   "cell_type": "code",
   "execution_count": 100,
   "id": "69b962d2",
   "metadata": {},
   "outputs": [
    {
     "data": {
      "text/plain": [
       "(174215, 12)"
      ]
     },
     "execution_count": 100,
     "metadata": {},
     "output_type": "execute_result"
    }
   ],
   "source": [
    "bikes_Q1.shape"
   ]
  },
  {
   "cell_type": "code",
   "execution_count": 101,
   "id": "33926a79",
   "metadata": {
    "scrolled": true
   },
   "outputs": [
    {
     "data": {
      "text/html": [
       "<div>\n",
       "<style scoped>\n",
       "    .dataframe tbody tr th:only-of-type {\n",
       "        vertical-align: middle;\n",
       "    }\n",
       "\n",
       "    .dataframe tbody tr th {\n",
       "        vertical-align: top;\n",
       "    }\n",
       "\n",
       "    .dataframe thead th {\n",
       "        text-align: right;\n",
       "    }\n",
       "</style>\n",
       "<table border=\"1\" class=\"dataframe\">\n",
       "  <thead>\n",
       "    <tr style=\"text-align: right;\">\n",
       "      <th></th>\n",
       "      <th>trip_id</th>\n",
       "      <th>start_time</th>\n",
       "      <th>end_time</th>\n",
       "      <th>bikeid</th>\n",
       "      <th>tripduration</th>\n",
       "      <th>from_station_id</th>\n",
       "      <th>from_station_name</th>\n",
       "      <th>to_station_id</th>\n",
       "      <th>to_station_name</th>\n",
       "      <th>usertype</th>\n",
       "      <th>gender</th>\n",
       "      <th>birthyear</th>\n",
       "    </tr>\n",
       "  </thead>\n",
       "  <tbody>\n",
       "    <tr>\n",
       "      <th>0</th>\n",
       "      <td>17617135</td>\n",
       "      <td>2018-01-22 20:04:31</td>\n",
       "      <td>2018-01-22 20:11:53</td>\n",
       "      <td>1131</td>\n",
       "      <td>442.0</td>\n",
       "      <td>471</td>\n",
       "      <td>Francisco Ave &amp; Foster Ave</td>\n",
       "      <td>468</td>\n",
       "      <td>Budlong Woods Library</td>\n",
       "      <td>Subscriber</td>\n",
       "      <td>Female</td>\n",
       "      <td>1949.0</td>\n",
       "    </tr>\n",
       "    <tr>\n",
       "      <th>1</th>\n",
       "      <td>17897619</td>\n",
       "      <td>2018-03-16 19:47:59</td>\n",
       "      <td>2018-03-16 20:04:00</td>\n",
       "      <td>6146</td>\n",
       "      <td>961.0</td>\n",
       "      <td>296</td>\n",
       "      <td>Broadway &amp; Belmont Ave</td>\n",
       "      <td>253</td>\n",
       "      <td>Winthrop Ave &amp; Lawrence Ave</td>\n",
       "      <td>Subscriber</td>\n",
       "      <td>Male</td>\n",
       "      <td>1988.0</td>\n",
       "    </tr>\n",
       "    <tr>\n",
       "      <th>2</th>\n",
       "      <td>17881307</td>\n",
       "      <td>2018-03-14 18:49:20</td>\n",
       "      <td>2018-03-14 18:54:38</td>\n",
       "      <td>3847</td>\n",
       "      <td>318.0</td>\n",
       "      <td>260</td>\n",
       "      <td>Kedzie Ave &amp; Milwaukee Ave</td>\n",
       "      <td>503</td>\n",
       "      <td>Drake Ave &amp; Fullerton Ave</td>\n",
       "      <td>Subscriber</td>\n",
       "      <td>Male</td>\n",
       "      <td>1987.0</td>\n",
       "    </tr>\n",
       "    <tr>\n",
       "      <th>3</th>\n",
       "      <td>17881130</td>\n",
       "      <td>2018-03-14 18:33:48</td>\n",
       "      <td>2018-03-14 19:07:40</td>\n",
       "      <td>1483</td>\n",
       "      <td>2,032.0</td>\n",
       "      <td>199</td>\n",
       "      <td>Wabash Ave &amp; Grand Ave</td>\n",
       "      <td>199</td>\n",
       "      <td>Wabash Ave &amp; Grand Ave</td>\n",
       "      <td>Subscriber</td>\n",
       "      <td>Male</td>\n",
       "      <td>1990.0</td>\n",
       "    </tr>\n",
       "    <tr>\n",
       "      <th>4</th>\n",
       "      <td>17686289</td>\n",
       "      <td>2018-02-05 17:39:14</td>\n",
       "      <td>2018-02-05 17:46:13</td>\n",
       "      <td>6391</td>\n",
       "      <td>419.0</td>\n",
       "      <td>596</td>\n",
       "      <td>Benson Ave &amp; Church St</td>\n",
       "      <td>605</td>\n",
       "      <td>University Library (NU)</td>\n",
       "      <td>Subscriber</td>\n",
       "      <td>Male</td>\n",
       "      <td>1992.0</td>\n",
       "    </tr>\n",
       "  </tbody>\n",
       "</table>\n",
       "</div>"
      ],
      "text/plain": [
       "    trip_id           start_time             end_time  bikeid tripduration  \\\n",
       "0  17617135  2018-01-22 20:04:31  2018-01-22 20:11:53    1131        442.0   \n",
       "1  17897619  2018-03-16 19:47:59  2018-03-16 20:04:00    6146        961.0   \n",
       "2  17881307  2018-03-14 18:49:20  2018-03-14 18:54:38    3847        318.0   \n",
       "3  17881130  2018-03-14 18:33:48  2018-03-14 19:07:40    1483      2,032.0   \n",
       "4  17686289  2018-02-05 17:39:14  2018-02-05 17:46:13    6391        419.0   \n",
       "\n",
       "   from_station_id           from_station_name  to_station_id  \\\n",
       "0              471  Francisco Ave & Foster Ave            468   \n",
       "1              296      Broadway & Belmont Ave            253   \n",
       "2              260  Kedzie Ave & Milwaukee Ave            503   \n",
       "3              199      Wabash Ave & Grand Ave            199   \n",
       "4              596      Benson Ave & Church St            605   \n",
       "\n",
       "               to_station_name    usertype  gender  birthyear  \n",
       "0        Budlong Woods Library  Subscriber  Female     1949.0  \n",
       "1  Winthrop Ave & Lawrence Ave  Subscriber    Male     1988.0  \n",
       "2    Drake Ave & Fullerton Ave  Subscriber    Male     1987.0  \n",
       "3       Wabash Ave & Grand Ave  Subscriber    Male     1990.0  \n",
       "4      University Library (NU)  Subscriber    Male     1992.0  "
      ]
     },
     "execution_count": 101,
     "metadata": {},
     "output_type": "execute_result"
    }
   ],
   "source": [
    "bikes_Q1.head()"
   ]
  },
  {
   "cell_type": "code",
   "execution_count": 102,
   "id": "51a963d1",
   "metadata": {
    "scrolled": true
   },
   "outputs": [
    {
     "data": {
      "text/plain": [
       "trip_id                int64\n",
       "start_time            object\n",
       "end_time              object\n",
       "bikeid                 int64\n",
       "tripduration          object\n",
       "from_station_id        int64\n",
       "from_station_name     object\n",
       "to_station_id          int64\n",
       "to_station_name       object\n",
       "usertype              object\n",
       "gender                object\n",
       "birthyear            float64\n",
       "dtype: object"
      ]
     },
     "execution_count": 102,
     "metadata": {},
     "output_type": "execute_result"
    }
   ],
   "source": [
    "bikes_Q1.dtypes"
   ]
  },
  {
   "cell_type": "code",
   "execution_count": 103,
   "id": "0c0e0196",
   "metadata": {},
   "outputs": [],
   "source": [
    "#изменим формат дат в датафрейме\n",
    "bikes_Q1[['start_time', 'end_time']] = bikes_Q1[['start_time', 'end_time']].apply(pd.to_datetime)"
   ]
  },
  {
   "cell_type": "code",
   "execution_count": 104,
   "id": "ff7b97b4",
   "metadata": {},
   "outputs": [],
   "source": [
    "#возьмем за индексы start_time\n",
    "bikes_Q1.set_index('start_time', inplace=True)"
   ]
  },
  {
   "cell_type": "code",
   "execution_count": 105,
   "id": "cf5336d9",
   "metadata": {},
   "outputs": [
    {
     "data": {
      "text/plain": [
       "4196"
      ]
     },
     "execution_count": 105,
     "metadata": {},
     "output_type": "execute_result"
    }
   ],
   "source": [
    "#высчитаем максимальное количество аренд за день\n",
    "bikes_Q1.resample(rule='D').trip_id.count().max()"
   ]
  },
  {
   "cell_type": "code",
   "execution_count": 106,
   "id": "9159e293",
   "metadata": {},
   "outputs": [],
   "source": [
    "#загрузим новые данные\n",
    "bikes_april = pd.read_csv('C:/Users/bkunt/jupyter/karpov/data/bikes_april.csv')"
   ]
  },
  {
   "cell_type": "code",
   "execution_count": 107,
   "id": "954484a9",
   "metadata": {},
   "outputs": [
    {
     "data": {
      "text/plain": [
       "(90144, 12)"
      ]
     },
     "execution_count": 107,
     "metadata": {},
     "output_type": "execute_result"
    }
   ],
   "source": [
    "bikes_april.shape"
   ]
  },
  {
   "cell_type": "code",
   "execution_count": 108,
   "id": "6fe7bfac",
   "metadata": {},
   "outputs": [
    {
     "data": {
      "text/html": [
       "<div>\n",
       "<style scoped>\n",
       "    .dataframe tbody tr th:only-of-type {\n",
       "        vertical-align: middle;\n",
       "    }\n",
       "\n",
       "    .dataframe tbody tr th {\n",
       "        vertical-align: top;\n",
       "    }\n",
       "\n",
       "    .dataframe thead th {\n",
       "        text-align: right;\n",
       "    }\n",
       "</style>\n",
       "<table border=\"1\" class=\"dataframe\">\n",
       "  <thead>\n",
       "    <tr style=\"text-align: right;\">\n",
       "      <th></th>\n",
       "      <th>start_time</th>\n",
       "      <th>trip_id</th>\n",
       "      <th>end_time</th>\n",
       "      <th>bikeid</th>\n",
       "      <th>tripduration</th>\n",
       "      <th>from_station_id</th>\n",
       "      <th>from_station_name</th>\n",
       "      <th>to_station_id</th>\n",
       "      <th>to_station_name</th>\n",
       "      <th>usertype</th>\n",
       "      <th>gender</th>\n",
       "      <th>birthyear</th>\n",
       "    </tr>\n",
       "  </thead>\n",
       "  <tbody>\n",
       "    <tr>\n",
       "      <th>0</th>\n",
       "      <td>2018-04-01 00:10:23</td>\n",
       "      <td>18000531</td>\n",
       "      <td>2018-04-01 00:22:12</td>\n",
       "      <td>5065</td>\n",
       "      <td>709.0</td>\n",
       "      <td>228</td>\n",
       "      <td>Damen Ave &amp; Melrose Ave</td>\n",
       "      <td>219</td>\n",
       "      <td>Damen Ave &amp; Cortland St</td>\n",
       "      <td>Subscriber</td>\n",
       "      <td>Male</td>\n",
       "      <td>1983.0</td>\n",
       "    </tr>\n",
       "    <tr>\n",
       "      <th>1</th>\n",
       "      <td>2018-04-01 00:15:49</td>\n",
       "      <td>18000533</td>\n",
       "      <td>2018-04-01 00:19:47</td>\n",
       "      <td>4570</td>\n",
       "      <td>238.0</td>\n",
       "      <td>128</td>\n",
       "      <td>Damen Ave &amp; Chicago Ave</td>\n",
       "      <td>130</td>\n",
       "      <td>Damen Ave &amp; Division St</td>\n",
       "      <td>Subscriber</td>\n",
       "      <td>Male</td>\n",
       "      <td>1978.0</td>\n",
       "    </tr>\n",
       "    <tr>\n",
       "      <th>2</th>\n",
       "      <td>2018-04-01 00:17:00</td>\n",
       "      <td>18000534</td>\n",
       "      <td>2018-04-01 00:22:53</td>\n",
       "      <td>1323</td>\n",
       "      <td>353.0</td>\n",
       "      <td>130</td>\n",
       "      <td>Damen Ave &amp; Division St</td>\n",
       "      <td>69</td>\n",
       "      <td>Damen Ave &amp; Pierce Ave</td>\n",
       "      <td>Subscriber</td>\n",
       "      <td>Male</td>\n",
       "      <td>1991.0</td>\n",
       "    </tr>\n",
       "    <tr>\n",
       "      <th>3</th>\n",
       "      <td>2018-04-01 00:20:00</td>\n",
       "      <td>18000536</td>\n",
       "      <td>2018-04-01 00:26:22</td>\n",
       "      <td>2602</td>\n",
       "      <td>382.0</td>\n",
       "      <td>121</td>\n",
       "      <td>Blackstone Ave &amp; Hyde Park Blvd</td>\n",
       "      <td>351</td>\n",
       "      <td>Cottage Grove Ave &amp; 51st St</td>\n",
       "      <td>Subscriber</td>\n",
       "      <td>Female</td>\n",
       "      <td>1992.0</td>\n",
       "    </tr>\n",
       "    <tr>\n",
       "      <th>4</th>\n",
       "      <td>2018-04-01 00:23:19</td>\n",
       "      <td>18000538</td>\n",
       "      <td>2018-04-01 00:35:01</td>\n",
       "      <td>4213</td>\n",
       "      <td>702.0</td>\n",
       "      <td>31</td>\n",
       "      <td>Franklin St &amp; Chicago Ave</td>\n",
       "      <td>180</td>\n",
       "      <td>Ritchie Ct &amp; Banks St</td>\n",
       "      <td>Subscriber</td>\n",
       "      <td>Male</td>\n",
       "      <td>1985.0</td>\n",
       "    </tr>\n",
       "  </tbody>\n",
       "</table>\n",
       "</div>"
      ],
      "text/plain": [
       "            start_time   trip_id             end_time  bikeid tripduration  \\\n",
       "0  2018-04-01 00:10:23  18000531  2018-04-01 00:22:12    5065        709.0   \n",
       "1  2018-04-01 00:15:49  18000533  2018-04-01 00:19:47    4570        238.0   \n",
       "2  2018-04-01 00:17:00  18000534  2018-04-01 00:22:53    1323        353.0   \n",
       "3  2018-04-01 00:20:00  18000536  2018-04-01 00:26:22    2602        382.0   \n",
       "4  2018-04-01 00:23:19  18000538  2018-04-01 00:35:01    4213        702.0   \n",
       "\n",
       "   from_station_id                from_station_name  to_station_id  \\\n",
       "0              228          Damen Ave & Melrose Ave            219   \n",
       "1              128          Damen Ave & Chicago Ave            130   \n",
       "2              130          Damen Ave & Division St             69   \n",
       "3              121  Blackstone Ave & Hyde Park Blvd            351   \n",
       "4               31        Franklin St & Chicago Ave            180   \n",
       "\n",
       "               to_station_name    usertype  gender  birthyear  \n",
       "0      Damen Ave & Cortland St  Subscriber    Male     1983.0  \n",
       "1      Damen Ave & Division St  Subscriber    Male     1978.0  \n",
       "2       Damen Ave & Pierce Ave  Subscriber    Male     1991.0  \n",
       "3  Cottage Grove Ave & 51st St  Subscriber  Female     1992.0  \n",
       "4        Ritchie Ct & Banks St  Subscriber    Male     1985.0  "
      ]
     },
     "execution_count": 108,
     "metadata": {},
     "output_type": "execute_result"
    }
   ],
   "source": [
    "bikes_april.head()"
   ]
  },
  {
   "cell_type": "code",
   "execution_count": 109,
   "id": "7c9295eb",
   "metadata": {},
   "outputs": [
    {
     "data": {
      "text/plain": [
       "start_time            object\n",
       "trip_id                int64\n",
       "end_time              object\n",
       "bikeid                 int64\n",
       "tripduration          object\n",
       "from_station_id        int64\n",
       "from_station_name     object\n",
       "to_station_id          int64\n",
       "to_station_name       object\n",
       "usertype              object\n",
       "gender                object\n",
       "birthyear            float64\n",
       "dtype: object"
      ]
     },
     "execution_count": 109,
     "metadata": {},
     "output_type": "execute_result"
    }
   ],
   "source": [
    "bikes_april.dtypes"
   ]
  },
  {
   "cell_type": "code",
   "execution_count": 110,
   "id": "a600da65",
   "metadata": {},
   "outputs": [],
   "source": [
    "#поменяем формат дат в нужных нам ячейках\n",
    "bikes_april[['start_time', 'end_time']] = bikes_april[['start_time', 'end_time']].apply(pd.to_datetime)"
   ]
  },
  {
   "cell_type": "code",
   "execution_count": 111,
   "id": "ebd63db8",
   "metadata": {},
   "outputs": [],
   "source": [
    "#установим start_time в качестве индекса\n",
    "bikes_april.set_index('start_time', inplace=True)"
   ]
  },
  {
   "cell_type": "code",
   "execution_count": 112,
   "id": "8181e7ce",
   "metadata": {},
   "outputs": [
    {
     "data": {
      "text/plain": [
       "2196"
      ]
     },
     "execution_count": 112,
     "metadata": {},
     "output_type": "execute_result"
    }
   ],
   "source": [
    "#найдем количество аренд за 18 апреля среди пользователей Subscriber\n",
    "bikes_april.groupby('usertype').resample(rule='D').size().T.loc['2018-04-18', 'Subscriber']"
   ]
  },
  {
   "cell_type": "code",
   "execution_count": 135,
   "id": "1759f01f",
   "metadata": {},
   "outputs": [],
   "source": [
    "#загрузим новые данные за каждый месяц и объединим их в один датафрейм\n",
    "bikes = pd.concat([pd.read_csv('C:/Users/bkunt/jupyter/karpov/data/8_bikes_data/bikes_q2_sample_apr.csv'),\n",
    "                   pd.read_csv('C:/Users/bkunt/jupyter/karpov/data/8_bikes_data/bikes_q2_sample_may.csv'),\n",
    "                   pd.read_csv('C:/Users/bkunt/jupyter/karpov/data/8_bikes_data/bikes_q2_sample_jun.csv'),\n",
    "                   pd.read_csv('C:/Users/bkunt/jupyter/karpov/data/8_bikes_data/bikes_q3_sample_july.csv'),\n",
    "                   pd.read_csv('C:/Users/bkunt/jupyter/karpov/data/8_bikes_data/bikes_q3_sample_aug.csv'),\n",
    "                   pd.read_csv('C:/Users/bkunt/jupyter/karpov/data/8_bikes_data/bikes_q3_sample_sep.csv'),\n",
    "                   pd.read_csv('C:/Users/bkunt/jupyter/karpov/data/8_bikes_data/bikes_q4_sample_oct.csv'),\n",
    "                   pd.read_csv('C:/Users/bkunt/jupyter/karpov/data/8_bikes_data/bikes_q4_sample_nov.csv'),\n",
    "                   pd.read_csv('C:/Users/bkunt/jupyter/karpov/data/8_bikes_data/bikes_q4_sample_dec.csv')])"
   ]
  },
  {
   "cell_type": "code",
   "execution_count": 136,
   "id": "404a93e8",
   "metadata": {},
   "outputs": [
    {
     "data": {
      "text/plain": [
       "(964781, 12)"
      ]
     },
     "execution_count": 136,
     "metadata": {},
     "output_type": "execute_result"
    }
   ],
   "source": [
    "bikes.shape"
   ]
  },
  {
   "cell_type": "code",
   "execution_count": 122,
   "id": "c95fdb63",
   "metadata": {
    "scrolled": true
   },
   "outputs": [
    {
     "data": {
      "text/html": [
       "<div>\n",
       "<style scoped>\n",
       "    .dataframe tbody tr th:only-of-type {\n",
       "        vertical-align: middle;\n",
       "    }\n",
       "\n",
       "    .dataframe tbody tr th {\n",
       "        vertical-align: top;\n",
       "    }\n",
       "\n",
       "    .dataframe thead th {\n",
       "        text-align: right;\n",
       "    }\n",
       "</style>\n",
       "<table border=\"1\" class=\"dataframe\">\n",
       "  <thead>\n",
       "    <tr style=\"text-align: right;\">\n",
       "      <th></th>\n",
       "      <th>trip_id</th>\n",
       "      <th>start_time</th>\n",
       "      <th>end_time</th>\n",
       "      <th>bikeid</th>\n",
       "      <th>tripduration</th>\n",
       "      <th>from_station_id</th>\n",
       "      <th>from_station_name</th>\n",
       "      <th>to_station_id</th>\n",
       "      <th>to_station_name</th>\n",
       "      <th>usertype</th>\n",
       "      <th>gender</th>\n",
       "      <th>birthyear</th>\n",
       "    </tr>\n",
       "  </thead>\n",
       "  <tbody>\n",
       "    <tr>\n",
       "      <th>0</th>\n",
       "      <td>18000534</td>\n",
       "      <td>2018-04-01 00:17:00</td>\n",
       "      <td>2018-04-01 00:22:53</td>\n",
       "      <td>1323</td>\n",
       "      <td>353.0</td>\n",
       "      <td>130</td>\n",
       "      <td>Damen Ave &amp; Division St</td>\n",
       "      <td>69</td>\n",
       "      <td>Damen Ave &amp; Pierce Ave</td>\n",
       "      <td>Subscriber</td>\n",
       "      <td>Male</td>\n",
       "      <td>1991.0</td>\n",
       "    </tr>\n",
       "    <tr>\n",
       "      <th>1</th>\n",
       "      <td>18000536</td>\n",
       "      <td>2018-04-01 00:20:00</td>\n",
       "      <td>2018-04-01 00:26:22</td>\n",
       "      <td>2602</td>\n",
       "      <td>382.0</td>\n",
       "      <td>121</td>\n",
       "      <td>Blackstone Ave &amp; Hyde Park Blvd</td>\n",
       "      <td>351</td>\n",
       "      <td>Cottage Grove Ave &amp; 51st St</td>\n",
       "      <td>Subscriber</td>\n",
       "      <td>Female</td>\n",
       "      <td>1992.0</td>\n",
       "    </tr>\n",
       "    <tr>\n",
       "      <th>2</th>\n",
       "      <td>18000538</td>\n",
       "      <td>2018-04-01 00:23:19</td>\n",
       "      <td>2018-04-01 00:35:01</td>\n",
       "      <td>4213</td>\n",
       "      <td>702.0</td>\n",
       "      <td>31</td>\n",
       "      <td>Franklin St &amp; Chicago Ave</td>\n",
       "      <td>180</td>\n",
       "      <td>Ritchie Ct &amp; Banks St</td>\n",
       "      <td>Subscriber</td>\n",
       "      <td>Male</td>\n",
       "      <td>1985.0</td>\n",
       "    </tr>\n",
       "    <tr>\n",
       "      <th>3</th>\n",
       "      <td>18000540</td>\n",
       "      <td>2018-04-01 00:24:46</td>\n",
       "      <td>2018-04-01 00:44:23</td>\n",
       "      <td>6401</td>\n",
       "      <td>1,177.0</td>\n",
       "      <td>596</td>\n",
       "      <td>Benson Ave &amp; Church St</td>\n",
       "      <td>517</td>\n",
       "      <td>Clark St &amp; Jarvis Ave</td>\n",
       "      <td>Subscriber</td>\n",
       "      <td>Male</td>\n",
       "      <td>1974.0</td>\n",
       "    </tr>\n",
       "    <tr>\n",
       "      <th>4</th>\n",
       "      <td>18000541</td>\n",
       "      <td>2018-04-01 00:26:04</td>\n",
       "      <td>2018-04-01 00:31:05</td>\n",
       "      <td>6333</td>\n",
       "      <td>301.0</td>\n",
       "      <td>145</td>\n",
       "      <td>Mies van der Rohe Way &amp; Chestnut St</td>\n",
       "      <td>24</td>\n",
       "      <td>Fairbanks Ct &amp; Grand Ave</td>\n",
       "      <td>Subscriber</td>\n",
       "      <td>Male</td>\n",
       "      <td>1984.0</td>\n",
       "    </tr>\n",
       "  </tbody>\n",
       "</table>\n",
       "</div>"
      ],
      "text/plain": [
       "    trip_id           start_time             end_time  bikeid tripduration  \\\n",
       "0  18000534  2018-04-01 00:17:00  2018-04-01 00:22:53    1323        353.0   \n",
       "1  18000536  2018-04-01 00:20:00  2018-04-01 00:26:22    2602        382.0   \n",
       "2  18000538  2018-04-01 00:23:19  2018-04-01 00:35:01    4213        702.0   \n",
       "3  18000540  2018-04-01 00:24:46  2018-04-01 00:44:23    6401      1,177.0   \n",
       "4  18000541  2018-04-01 00:26:04  2018-04-01 00:31:05    6333        301.0   \n",
       "\n",
       "   from_station_id                    from_station_name  to_station_id  \\\n",
       "0              130              Damen Ave & Division St             69   \n",
       "1              121      Blackstone Ave & Hyde Park Blvd            351   \n",
       "2               31            Franklin St & Chicago Ave            180   \n",
       "3              596               Benson Ave & Church St            517   \n",
       "4              145  Mies van der Rohe Way & Chestnut St             24   \n",
       "\n",
       "               to_station_name    usertype  gender  birthyear  \n",
       "0       Damen Ave & Pierce Ave  Subscriber    Male     1991.0  \n",
       "1  Cottage Grove Ave & 51st St  Subscriber  Female     1992.0  \n",
       "2        Ritchie Ct & Banks St  Subscriber    Male     1985.0  \n",
       "3        Clark St & Jarvis Ave  Subscriber    Male     1974.0  \n",
       "4     Fairbanks Ct & Grand Ave  Subscriber    Male     1984.0  "
      ]
     },
     "execution_count": 122,
     "metadata": {},
     "output_type": "execute_result"
    }
   ],
   "source": [
    "bikes.head()"
   ]
  },
  {
   "cell_type": "code",
   "execution_count": 123,
   "id": "352edbbf",
   "metadata": {},
   "outputs": [
    {
     "data": {
      "text/plain": [
       "trip_id                int64\n",
       "start_time            object\n",
       "end_time              object\n",
       "bikeid                 int64\n",
       "tripduration          object\n",
       "from_station_id        int64\n",
       "from_station_name     object\n",
       "to_station_id          int64\n",
       "to_station_name       object\n",
       "usertype              object\n",
       "gender                object\n",
       "birthyear            float64\n",
       "dtype: object"
      ]
     },
     "execution_count": 123,
     "metadata": {},
     "output_type": "execute_result"
    }
   ],
   "source": [
    "bikes.dtypes"
   ]
  },
  {
   "cell_type": "code",
   "execution_count": 138,
   "id": "988cbdca",
   "metadata": {},
   "outputs": [],
   "source": [
    "bikes[['start_time', 'end_time']] = bikes[['start_time', 'end_time']].apply(pd.to_datetime)"
   ]
  },
  {
   "cell_type": "code",
   "execution_count": 139,
   "id": "e44b4b58",
   "metadata": {},
   "outputs": [],
   "source": [
    "bikes.set_index('start_time', inplace=True)"
   ]
  },
  {
   "cell_type": "code",
   "execution_count": 140,
   "id": "a09bc8e7",
   "metadata": {
    "scrolled": true
   },
   "outputs": [
    {
     "data": {
      "text/html": [
       "<div>\n",
       "<style scoped>\n",
       "    .dataframe tbody tr th:only-of-type {\n",
       "        vertical-align: middle;\n",
       "    }\n",
       "\n",
       "    .dataframe tbody tr th {\n",
       "        vertical-align: top;\n",
       "    }\n",
       "\n",
       "    .dataframe thead th {\n",
       "        text-align: right;\n",
       "    }\n",
       "</style>\n",
       "<table border=\"1\" class=\"dataframe\">\n",
       "  <thead>\n",
       "    <tr style=\"text-align: right;\">\n",
       "      <th>usertype</th>\n",
       "      <th>Customer</th>\n",
       "      <th>Subscriber</th>\n",
       "    </tr>\n",
       "    <tr>\n",
       "      <th>start_time</th>\n",
       "      <th></th>\n",
       "      <th></th>\n",
       "    </tr>\n",
       "  </thead>\n",
       "  <tbody>\n",
       "    <tr>\n",
       "      <th>2018-05-27</th>\n",
       "      <td>3263</td>\n",
       "      <td>2449</td>\n",
       "    </tr>\n",
       "    <tr>\n",
       "      <th>2018-09-02</th>\n",
       "      <td>2752</td>\n",
       "      <td>2183</td>\n",
       "    </tr>\n",
       "  </tbody>\n",
       "</table>\n",
       "</div>"
      ],
      "text/plain": [
       "usertype    Customer  Subscriber\n",
       "start_time                      \n",
       "2018-05-27      3263        2449\n",
       "2018-09-02      2752        2183"
      ]
     },
     "execution_count": 140,
     "metadata": {},
     "output_type": "execute_result"
    }
   ],
   "source": [
    "#найдем дни, в которые число аренд, сделанных customers, было больше, чем у subscribers\n",
    "bikes.groupby('usertype').resample(rule='D').size().T.query('Subscriber < Customer')"
   ]
  },
  {
   "cell_type": "code",
   "execution_count": 150,
   "id": "a3781a11",
   "metadata": {},
   "outputs": [
    {
     "data": {
      "image/png": "[encoded data removed]",
      "text/plain": [
       "<Figure size 864x432 with 1 Axes>"
      ]
     },
     "metadata": {
      "needs_background": "light"
     },
     "output_type": "display_data"
    }
   ],
   "source": [
    "#построим графики количества аренд по типу пользователя\n",
    "plt.figure(figsize=(12, 6))\n",
    "bikes.query('usertype == \"Subscriber\"').resample(rule='D').size().plot(label='Subscriber')\n",
    "bikes.query('usertype == \"Customer\"').resample(rule='D').size().plot(label='Customer')\n",
    "plt.legend()\n",
    "plt.show()"
   ]
  },
  {
   "cell_type": "code",
   "execution_count": 233,
   "id": "f00ed303",
   "metadata": {},
   "outputs": [],
   "source": [
    "#нам нужны наблюдения с 1 июня по 31 августа\n",
    "bikes_summer = bikes.loc['2018-06-01': '2018-08-31' , :]"
   ]
  },
  {
   "cell_type": "code",
   "execution_count": 176,
   "id": "9bac9704",
   "metadata": {},
   "outputs": [],
   "source": [
    "#определим наиболее популярный пункт назначения\n",
    "top_destination = bikes_summer.to_station_name.value_counts().index[0]"
   ]
  },
  {
   "cell_type": "code",
   "execution_count": 195,
   "id": "e0a7fcbb",
   "metadata": {},
   "outputs": [],
   "source": [
    "#определим, в какой день в полученный пункт было совершено меньше всего поездок\n",
    "bad_day = bikes_summer.query('to_station_name == @top_destination') \\\n",
    "                      .resample(rule='D') \\\n",
    "                      .size() \\\n",
    "                      .sort_values(ascending=True) \\\n",
    "                      .index[0] \\\n",
    "                      .strftime('%Y-%m-%d')"
   ]
  },
  {
   "cell_type": "code",
   "execution_count": 234,
   "id": "b049f446",
   "metadata": {},
   "outputs": [
    {
     "name": "stderr",
     "output_type": "stream",
     "text": [
      "C:\\Users\\bkunt\\AppData\\Local\\Temp\\ipykernel_27476\\1494551831.py:2: SettingWithCopyWarning: \n",
      "A value is trying to be set on a copy of a slice from a DataFrame.\n",
      "Try using .loc[row_indexer,col_indexer] = value instead\n",
      "\n",
      "See the caveats in the documentation: https://pandas.pydata.org/pandas-docs/stable/user_guide/indexing.html#returning-a-view-versus-a-copy\n",
      "  bikes_summer['weekday'] = bikes_summer.start_time.dt.day_name()\n"
     ]
    }
   ],
   "source": [
    "#нам нужно узнать популярные пункты назначения по выходным и в будние дни\n",
    "bikes_summer.reset_index(inplace=True)\n",
    "bikes_summer['weekday'] = bikes_summer.start_time.dt.day_name()\n",
    "weekend = ['Saturday', 'Sunday']"
   ]
  },
  {
   "cell_type": "code",
   "execution_count": 245,
   "id": "8a04ed29",
   "metadata": {
    "scrolled": true
   },
   "outputs": [
    {
     "data": {
      "text/plain": [
       "Streeter Dr & Grand Ave       6026\n",
       "Lake Shore Dr & North Blvd    3092\n",
       "Theater on the Lake           2858\n",
       "Lake Shore Dr & Monroe St     2271\n",
       "Millennium Park               1984\n",
       "Name: to_station_name, dtype: int64"
      ]
     },
     "execution_count": 245,
     "metadata": {},
     "output_type": "execute_result"
    }
   ],
   "source": [
    "#в выходные\n",
    "bikes_summer.query('weekday in @weekend').to_station_name.value_counts().head()"
   ]
  },
  {
   "cell_type": "code",
   "execution_count": 244,
   "id": "500c9c4f",
   "metadata": {},
   "outputs": [
    {
     "data": {
      "text/plain": [
       "Streeter Dr & Grand Ave         7614\n",
       "Canal St & Adams St             6142\n",
       "Clinton St & Washington Blvd    4857\n",
       "Clinton St & Madison St         4694\n",
       "Lake Shore Dr & North Blvd      4213\n",
       "Name: to_station_name, dtype: int64"
      ]
     },
     "execution_count": 244,
     "metadata": {},
     "output_type": "execute_result"
    }
   ],
   "source": [
    "#в будни\n",
    "bikes_summer.query('weekday not in @weekend').to_station_name.value_counts().head()"
   ]
  }
 ],
 "metadata": {
  "kernelspec": {
   "display_name": "Python 3 (ipykernel)",
   "language": "python",
   "name": "python3"
  },
  "language_info": {
   "codemirror_mode": {
    "name": "ipython",
    "version": 3
   },
   "file_extension": ".py",
   "mimetype": "text/x-python",
   "name": "python",
   "nbconvert_exporter": "python",
   "pygments_lexer": "ipython3",
   "version": "3.9.12"
  }
 },
 "nbformat": 4,
 "nbformat_minor": 5
}
