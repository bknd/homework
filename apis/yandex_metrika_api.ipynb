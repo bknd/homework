{
 "cells": [
  {
   "cell_type": "code",
   "execution_count": null,
   "id": "42639f8c",
   "metadata": {},
   "outputs": [],
   "source": [
    "import pandas as pd\n",
    "import requests\n",
    "import json\n",
    "from urllib.parse import urlencode"
   ]
  },
  {
   "cell_type": "code",
   "execution_count": null,
   "id": "81185cb0",
   "metadata": {},
   "outputs": [],
   "source": [
    "# Base url to service\n",
    "url = 'https://api-metrika.yandex.net/stat/v1/data?'\n",
    "\n",
    "# &-separated parameters of query in a form of name=value, taken from the metrica site\n",
    "visits = 'metrics=ym:s:visits&dimensions=ym:s:date&id=44147844'\n",
    "url = url + visits\n",
    "\n",
    "# Get json of response\n",
    "query = requests.get(url)\n",
    "json_data = json.loads(query.text)\n",
    "\n",
    "# Conversion of obtained json to dataframe\n",
    "visits_data = pd.DataFrame([(\n",
    "                             i['dimensions'][0]['name'],\n",
    "                             i['metrics'][0]) for i in json_data['data']], \n",
    "                           columns=['date', 'visits'])"
   ]
  },
  {
   "cell_type": "markdown",
   "id": "631c8d85",
   "metadata": {},
   "source": [
    "##### Если вам не нравится вручную делать ссылки-запросы для Яндекс.Метрики, есть решение:"
   ]
  },
  {
   "cell_type": "code",
   "execution_count": null,
   "id": "840f5a8b",
   "metadata": {},
   "outputs": [],
   "source": [
    "# Base path to service\n",
    "base_url = 'https://api-metrika.yandex.net/stat/v1/data?'\n",
    "\n",
    "# Parameters of query\n",
    "params = {'metrics': 'ym:s:visits',\n",
    "          'dimensions': 'ym:s:date',\n",
    "          'id': '44147844'}\n",
    "\n",
    "visits_url = base_url + urlencode(params)\n",
    "visits_url\n",
    "'https://api-metrika.yandex.net/stat/v1/data?metrics=ym%3As%3Avisits&dimensions=ym%3As%3Adate&id=44147844'"
   ]
  },
  {
   "cell_type": "markdown",
   "id": "e0c75935",
   "metadata": {},
   "source": [
    "##### Всё можно сделать еще короче — достаточно запихнуть словарь с параметрами в params внутри requests.get"
   ]
  },
  {
   "cell_type": "code",
   "execution_count": null,
   "id": "c2eeac28",
   "metadata": {},
   "outputs": [],
   "source": [
    "requests.get(base_url,\n",
    "             params={\n",
    "             'metrics': 'ym:s:visits',\n",
    "             'dimensions': ['ym:s:date', 'ym:s:isRobot'],\n",
    "             'id': 44147844\n",
    "             })"
   ]
  }
 ],
 "metadata": {
  "kernelspec": {
   "display_name": "Python 3 (ipykernel)",
   "language": "python",
   "name": "python3"
  },
  "language_info": {
   "codemirror_mode": {
    "name": "ipython",
    "version": 3
   },
   "file_extension": ".py",
   "mimetype": "text/x-python",
   "name": "python",
   "nbconvert_exporter": "python",
   "pygments_lexer": "ipython3",
   "version": "3.9.12"
  }
 },
 "nbformat": 4,
 "nbformat_minor": 5
}
