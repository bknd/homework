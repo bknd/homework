{
 "cells": [
  {
   "cell_type": "code",
   "execution_count": 1,
   "id": "1daf9d25",
   "metadata": {},
   "outputs": [],
   "source": [
    "import pandas as pd\n",
    "import gspread\n",
    "from df2gspread import df2gspread as d2g\n",
    "from oauth2client.service_account import ServiceAccountCredentials"
   ]
  },
  {
   "cell_type": "code",
   "execution_count": 2,
   "id": "a6c6ca13",
   "metadata": {},
   "outputs": [],
   "source": [
    "df = pd.read_csv('C:/Users/bkunt/jupyter/karpov/data/step_4_lesson_7.csv')"
   ]
  },
  {
   "cell_type": "code",
   "execution_count": 4,
   "id": "e935c538",
   "metadata": {},
   "outputs": [],
   "source": [
    "scope = ['https://spreadsheets.google.com/feeds',\n",
    "         'https://www.googleapis.com/auth/drive']\n",
    "\n",
    "my_mail = 'bknd-23@dauntless-loop-291015.iam.gserviceaccount.com'\n",
    "path_to_credentials = 'C:/Users/bkunt/jupyter/karpov/apis/dauntless-loop-291015-c4ba72b91f23.json'\n",
    "\n",
    "# Authorization\n",
    "credentials = ServiceAccountCredentials.from_json_keyfile_name(path_to_credentials, scope)\n",
    "gs = gspread.authorize(credentials)"
   ]
  },
  {
   "cell_type": "markdown",
   "id": "5430bdf5",
   "metadata": {},
   "source": [
    "#### Загрузка таблицы из гугл доков"
   ]
  },
  {
   "cell_type": "code",
   "execution_count": 4,
   "id": "91d0d626",
   "metadata": {},
   "outputs": [
    {
     "data": {
      "text/html": [
       "<div>\n",
       "<style scoped>\n",
       "    .dataframe tbody tr th:only-of-type {\n",
       "        vertical-align: middle;\n",
       "    }\n",
       "\n",
       "    .dataframe tbody tr th {\n",
       "        vertical-align: top;\n",
       "    }\n",
       "\n",
       "    .dataframe thead th {\n",
       "        text-align: right;\n",
       "    }\n",
       "</style>\n",
       "<table border=\"1\" class=\"dataframe\">\n",
       "  <thead>\n",
       "    <tr style=\"text-align: right;\">\n",
       "      <th></th>\n",
       "      <th>id</th>\n",
       "      <th>name</th>\n",
       "      <th>age</th>\n",
       "    </tr>\n",
       "  </thead>\n",
       "  <tbody>\n",
       "    <tr>\n",
       "      <th>0</th>\n",
       "      <td>1</td>\n",
       "      <td>A</td>\n",
       "      <td>5</td>\n",
       "    </tr>\n",
       "    <tr>\n",
       "      <th>1</th>\n",
       "      <td>2</td>\n",
       "      <td>B</td>\n",
       "      <td>30</td>\n",
       "    </tr>\n",
       "    <tr>\n",
       "      <th>2</th>\n",
       "      <td>3</td>\n",
       "      <td>C</td>\n",
       "      <td>45</td>\n",
       "    </tr>\n",
       "    <tr>\n",
       "      <th>3</th>\n",
       "      <td>4</td>\n",
       "      <td>D</td>\n",
       "      <td>61</td>\n",
       "    </tr>\n",
       "  </tbody>\n",
       "</table>\n",
       "</div>"
      ],
      "text/plain": [
       "  id name age\n",
       "0  1    A   5\n",
       "1  2    B  30\n",
       "2  3    C  45\n",
       "3  4    D  61"
      ]
     },
     "execution_count": 4,
     "metadata": {},
     "output_type": "execute_result"
    }
   ],
   "source": [
    "# Name of the table in google sheets,\n",
    "# can be url for open_by_url\n",
    "# or id (key) part for open_by_key\n",
    "table_name = 'test_table'  # Your table\n",
    "\n",
    "# Get this table\n",
    "work_sheet = gs.open(table_name)\n",
    "\n",
    "# Select 1st sheet\n",
    "sheet1 = work_sheet.sheet1\n",
    "\n",
    "# Get data in python lists format\n",
    "data = sheet1.get_all_values()\n",
    "\n",
    "# Get header from data\n",
    "headers = data.pop(0)\n",
    "\n",
    "# Create df\n",
    "df = pd.DataFrame(data, columns=headers)\n",
    "df.head()"
   ]
  },
  {
   "cell_type": "markdown",
   "id": "0b588f50",
   "metadata": {},
   "source": [
    "#### Создание своей таблицы"
   ]
  },
  {
   "cell_type": "code",
   "execution_count": null,
   "id": "c9b15748",
   "metadata": {},
   "outputs": [],
   "source": [
    "# Create empty table\n",
    "table_name = 'A new spreadsheet'\n",
    "sheet = gs.create(table_name)\n",
    "\n",
    "# Make it visible to other guys\n",
    "sheet.share(my_mail, perm_type='user', role='writer')"
   ]
  },
  {
   "cell_type": "markdown",
   "id": "b501c3b9",
   "metadata": {},
   "source": [
    "#### Экспорт датафрэйма в гугл доки"
   ]
  },
  {
   "cell_type": "code",
   "execution_count": null,
   "id": "95b1e2f5",
   "metadata": {},
   "outputs": [],
   "source": [
    "# Create your df\n",
    "df = ...\n",
    "\n",
    "# Looks like spreadsheet should be already present at the dist (so, run code in create table section)\n",
    "sheet = 'Master'\n",
    "d2g.upload(df, table_name, sheet, credentials=credentials, row_names=True)"
   ]
  },
  {
   "cell_type": "code",
   "execution_count": null,
   "id": "7b80b30b",
   "metadata": {},
   "outputs": [],
   "source": [
    "#Чтобы получить ссылку на гугл документ, воспользуйтесь следующим кодом, где sheet — результат gs.create(table_name)\n",
    "\n",
    "spreadsheet_url = \"https://docs.google.com/spreadsheets/d/%s\" % sheet.id"
   ]
  }
 ],
 "metadata": {
  "kernelspec": {
   "display_name": "Python 3 (ipykernel)",
   "language": "python",
   "name": "python3"
  },
  "language_info": {
   "codemirror_mode": {
    "name": "ipython",
    "version": 3
   },
   "file_extension": ".py",
   "mimetype": "text/x-python",
   "name": "python",
   "nbconvert_exporter": "python",
   "pygments_lexer": "ipython3",
   "version": "3.9.12"
  }
 },
 "nbformat": 4,
 "nbformat_minor": 5
}
