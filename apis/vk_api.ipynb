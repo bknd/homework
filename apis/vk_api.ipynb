{
 "cells": [
  {
   "cell_type": "code",
   "execution_count": 14,
   "id": "40210887",
   "metadata": {},
   "outputs": [],
   "source": [
    "import vk_api\n",
    "import random\n",
    "import requests\n",
    "import json"
   ]
  },
  {
   "cell_type": "code",
   "execution_count": 5,
   "id": "c6464202",
   "metadata": {},
   "outputs": [],
   "source": [
    "# Token which you obtained via vk\n",
    "app_token = '325e8ee70edbf0fd2e1dc6ac0a987b55078b3cee7a7d240d4b3483f69dba30cee8a26b46c30f01b0d072d'\n",
    "\n",
    "# id of the 1st chat\n",
    "chat_id = 1\n",
    "\n",
    "# id of my user-receiver\n",
    "my_id = 81821252\n",
    "\n",
    "# Initialize session\n",
    "vk_session = vk_api.VkApi(token=app_token)\n",
    "\n",
    "# Make it possible to use vk api methods as python methods\n",
    "vk = vk_session.get_api()"
   ]
  },
  {
   "cell_type": "markdown",
   "id": "1c7a8d94",
   "metadata": {},
   "source": [
    "#### Отправка сообщений"
   ]
  },
  {
   "cell_type": "code",
   "execution_count": 10,
   "id": "d3b69ab2",
   "metadata": {},
   "outputs": [
    {
     "data": {
      "text/plain": [
       "17"
      ]
     },
     "execution_count": 10,
     "metadata": {},
     "output_type": "execute_result"
    }
   ],
   "source": [
    "vk.messages.send(\n",
    "    chat_id=chat_id,\n",
    "    random_id=random.randint(1, 2 ** 31),\n",
    "    message='Это я, Почтальон Печкин!')"
   ]
  },
  {
   "cell_type": "markdown",
   "id": "136fd414",
   "metadata": {},
   "source": [
    "#### Отправка документов"
   ]
  },
  {
   "cell_type": "code",
   "execution_count": 15,
   "id": "ea521041",
   "metadata": {},
   "outputs": [
    {
     "data": {
      "text/plain": [
       "18"
      ]
     },
     "execution_count": 15,
     "metadata": {},
     "output_type": "execute_result"
    }
   ],
   "source": [
    "# Specify path to the file and its future name in the message\n",
    "path_to_file = 'C:/Users/bkunt/Documents/Кунтаев Б.Н.pdf'\n",
    "file_name = 'resume.pdf'\n",
    "\n",
    "upload_url = vk.docs.getMessagesUploadServer(peer_id=my_id)[\"upload_url\"]\n",
    "file = {'file': (file_name, open(path_to_file, 'rb'))}\n",
    "\n",
    "# Send request to post this doc on vk.com\n",
    "response = requests.post(upload_url, files=file)\n",
    "\n",
    "json_data = json.loads(response.text)\n",
    "\n",
    "saved_file = vk.docs.save(file=json_data['file'], title=file_name)\n",
    "attachment = 'doc{}_{}'.format(saved_file['doc']['owner_id'], saved_file['doc']['id'])\n",
    "\n",
    "vk.messages.send(\n",
    "    chat_id=chat_id,  # id of chat where to send\n",
    "    random_id=random.randint(1, 2 ** 31),  # random number for message identification\n",
    "    message='Привёз посылку для вашего мальчика!',  # message text, optional here\n",
    "    attachment=attachment)  # attachment name"
   ]
  },
  {
   "cell_type": "code",
   "execution_count": null,
   "id": "c6420a51",
   "metadata": {},
   "outputs": [],
   "source": [
    "Заменив chat_id=chat_id на user_id=my_id, можно отправлять сообщения себе. Только поставьте в my_id свой id)"
   ]
  }
 ],
 "metadata": {
  "kernelspec": {
   "display_name": "Python 3 (ipykernel)",
   "language": "python",
   "name": "python3"
  },
  "language_info": {
   "codemirror_mode": {
    "name": "ipython",
    "version": 3
   },
   "file_extension": ".py",
   "mimetype": "text/x-python",
   "name": "python",
   "nbconvert_exporter": "python",
   "pygments_lexer": "ipython3",
   "version": "3.9.12"
  }
 },
 "nbformat": 4,
 "nbformat_minor": 5
}
