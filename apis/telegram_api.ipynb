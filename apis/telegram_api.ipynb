{
 "cells": [
  {
   "cell_type": "code",
   "execution_count": 3,
   "id": "edf1e893",
   "metadata": {},
   "outputs": [],
   "source": [
    "import requests\n",
    "import json\n",
    "import asyncio\n",
    "\n",
    "from urllib.parse import urlencode"
   ]
  },
  {
   "cell_type": "code",
   "execution_count": null,
   "id": "7b016f6a",
   "metadata": {},
   "outputs": [],
   "source": [
    "token = '1387776977:AAE1tNcmstivRZSs_TXaNe58Fjt7jEPUv8E'\n",
    "chat_id = '849603218' # your chat id"
   ]
  },
  {
   "cell_type": "markdown",
   "id": "269b14df",
   "metadata": {},
   "source": [
    "#### Отправка сообщений"
   ]
  },
  {
   "cell_type": "code",
   "execution_count": 22,
   "id": "73faf203",
   "metadata": {},
   "outputs": [],
   "source": [
    "message = 'test'  # text which you want to send\n",
    "\n",
    "params = {'chat_id': chat_id, 'text': message}\n",
    "\n",
    "base_url = f'https://api.telegram.org/bot{token}/'\n",
    "url = base_url + 'sendMessage?' + urlencode(params)\n",
    "# Only if you need it\n",
    "# proxy = {'https': 'https://77.48.23.199:57842'}\n",
    "\n",
    "# To send request via proxy\n",
    "# resp = requests.get(url, proxies=proxy)\n",
    "resp = requests.get(url)"
   ]
  },
  {
   "cell_type": "markdown",
   "id": "090b664b",
   "metadata": {},
   "source": [
    "#### Отправка документов"
   ]
  },
  {
   "cell_type": "code",
   "execution_count": null,
   "id": "390f8397",
   "metadata": {},
   "outputs": [],
   "source": [
    "# Path to necessary file\n",
    "filepath = 'your_path'\n",
    "\n",
    "url = base_url + 'sendDocument?' + urlencode(params)\n",
    "\n",
    "files = {'document': open(filepath, 'rb')}\n",
    "\n",
    "# If you need proxy\n",
    "# resp = requests.get(url, files=files, proxies=proxy)\n",
    "resp = requests.get(url, files=files)"
   ]
  }
 ],
 "metadata": {
  "kernelspec": {
   "display_name": "Python 3 (ipykernel)",
   "language": "python",
   "name": "python3"
  },
  "language_info": {
   "codemirror_mode": {
    "name": "ipython",
    "version": 3
   },
   "file_extension": ".py",
   "mimetype": "text/x-python",
   "name": "python",
   "nbconvert_exporter": "python",
   "pygments_lexer": "ipython3",
   "version": "3.9.12"
  }
 },
 "nbformat": 4,
 "nbformat_minor": 5
}
